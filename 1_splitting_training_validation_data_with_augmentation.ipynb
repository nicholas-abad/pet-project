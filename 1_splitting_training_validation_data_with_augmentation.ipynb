{
 "cells": [
  {
   "cell_type": "code",
   "execution_count": 5,
   "id": "1df90b45",
   "metadata": {},
   "outputs": [],
   "source": [
    "import os\n",
    "import random\n",
    "import shutil\n",
    "import cv2\n",
    "import numpy as np\n",
    "\n",
    "def augment_image(img):\n",
    "    # Random grayscale\n",
    "    if random.random() < 0.7:\n",
    "        img = cv2.cvtColor(img, cv2.COLOR_BGR2GRAY)\n",
    "        img = cv2.cvtColor(img, cv2.COLOR_GRAY2BGR)\n",
    "\n",
    "    # Random blur\n",
    "    if random.random() < 0.7:\n",
    "        k = random.choice([3, 5])\n",
    "        img = cv2.GaussianBlur(img, (k, k), 0)\n",
    "\n",
    "    # Random brightness\n",
    "    if random.random() < 0.7:\n",
    "        hsv = cv2.cvtColor(img, cv2.COLOR_BGR2HSV)\n",
    "        hsv[:, :, 2] = np.clip(hsv[:, :, 2] * random.uniform(0.7, 1.3), 0, 255)\n",
    "        img = cv2.cvtColor(hsv, cv2.COLOR_HSV2BGR)\n",
    "\n",
    "    return img\n",
    "\n",
    "def prepare_yolo_dataset(open_folder, do_not_open_folder, output_base, split_ratio=0.8):\n",
    "    # Make folders\n",
    "    images_train = os.path.join(output_base, \"images/train\")\n",
    "    images_val = os.path.join(output_base, \"images/val\")\n",
    "    labels_train = os.path.join(output_base, \"labels/train\")\n",
    "    labels_val = os.path.join(output_base, \"labels/val\")\n",
    "    \n",
    "    for folder in [images_train, images_val, labels_train, labels_val]:\n",
    "        os.makedirs(folder, exist_ok=True)\n",
    "\n",
    "    # Process folders\n",
    "    all_data = []\n",
    "    for folder, label in [(open_folder, 0), (do_not_open_folder, 1)]:\n",
    "        images = [f for f in os.listdir(folder) if f.lower().endswith(('.jpg', '.jpeg', '.png'))]\n",
    "        for img in images:\n",
    "            all_data.append((os.path.join(folder, img), label))\n",
    "    \n",
    "    random.shuffle(all_data)\n",
    "    split_idx = int(len(all_data) * split_ratio)\n",
    "    train_data = all_data[:split_idx]\n",
    "    val_data = all_data[split_idx:]\n",
    "\n",
    "    for dataset, img_folder, label_folder, augment in [\n",
    "        (train_data, images_train, labels_train, True),\n",
    "        (val_data, images_val, labels_val, False)\n",
    "    ]:\n",
    "        for img_path, class_id in dataset:\n",
    "            base_name = os.path.splitext(os.path.basename(img_path))[0]\n",
    "\n",
    "            # Copy original image\n",
    "            dst_img_path = os.path.join(img_folder, base_name + \".jpg\")\n",
    "            shutil.copy(img_path, dst_img_path)\n",
    "\n",
    "            # Write label\n",
    "            dst_label_path = os.path.join(label_folder, base_name + \".txt\")\n",
    "            with open(dst_label_path, 'w') as f:\n",
    "                f.write(f\"{class_id} 0.5 0.5 1.0 1.0\\n\")\n",
    "\n",
    "            # Augmented image (only in training)\n",
    "            if augment:\n",
    "                img = cv2.imread(img_path)\n",
    "                if img is not None:\n",
    "                    aug_img = augment_image(img)\n",
    "                    aug_name = base_name + \"_aug\"\n",
    "                    cv2.imwrite(os.path.join(img_folder, aug_name + \".jpg\"), aug_img)\n",
    "\n",
    "                    with open(os.path.join(label_folder, aug_name + \".txt\"), 'w') as f:\n",
    "                        f.write(f\"{class_id} 0.5 0.5 1.0 1.0\\n\")\n",
    "\n",
    "    print(f\"✅ Dataset prepared with {len(train_data)} train (plus augmented) and {len(val_data)} val images.\")"
   ]
  },
  {
   "cell_type": "code",
   "execution_count": 6,
   "id": "17bc1a9e",
   "metadata": {},
   "outputs": [
    {
     "name": "stdout",
     "output_type": "stream",
     "text": [
      "✅ Dataset prepared with 63 train (plus augmented) and 16 val images.\n"
     ]
    }
   ],
   "source": [
    "open_folder = \"data/open\"\n",
    "do_not_open_folder = \"data/do_not_open\"\n",
    "output_base = \"datasets/catflap\"\n",
    "\n",
    "prepare_yolo_dataset(open_folder, do_not_open_folder, output_base)"
   ]
  },
  {
   "cell_type": "code",
   "execution_count": null,
   "id": "605c9acc",
   "metadata": {},
   "outputs": [],
   "source": [
    "# shutil.rmtree(\n",
    "#     os.path.join(\n",
    "#         output_base,\n",
    "#         \"images\"\n",
    "#     )\n",
    "# )\n",
    "\n",
    "# shutil.rmtree(\n",
    "#     os.path.join(\n",
    "#         output_base,\n",
    "#         \"labels\"\n",
    "#     )\n",
    "# )"
   ]
  },
  {
   "cell_type": "code",
   "execution_count": null,
   "id": "4f5f2c6b",
   "metadata": {},
   "outputs": [],
   "source": []
  }
 ],
 "metadata": {
  "kernelspec": {
   "display_name": "psnv-hunter",
   "language": "python",
   "name": "python3"
  },
  "language_info": {
   "codemirror_mode": {
    "name": "ipython",
    "version": 3
   },
   "file_extension": ".py",
   "mimetype": "text/x-python",
   "name": "python",
   "nbconvert_exporter": "python",
   "pygments_lexer": "ipython3",
   "version": "3.11.12"
  }
 },
 "nbformat": 4,
 "nbformat_minor": 5
}
