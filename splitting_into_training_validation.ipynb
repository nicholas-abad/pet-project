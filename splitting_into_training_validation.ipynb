{
 "cells": [
  {
   "cell_type": "code",
   "execution_count": 2,
   "id": "c754f440",
   "metadata": {},
   "outputs": [],
   "source": [
    "import os\n",
    "import random\n",
    "import shutil\n",
    "\n",
    "def split_train_val(images_dir, labels_dir, output_base_dir, train_ratio=0.8):\n",
    "    # Define output directories\n",
    "    train_images_dir = os.path.join(output_base_dir, 'images', 'train')\n",
    "    val_images_dir = os.path.join(output_base_dir, 'images', 'val')\n",
    "    train_labels_dir = os.path.join(output_base_dir, 'labels', 'train')\n",
    "    val_labels_dir = os.path.join(output_base_dir, 'labels', 'val')\n",
    "\n",
    "    # Make sure all directories exist\n",
    "    os.makedirs(train_images_dir, exist_ok=True)\n",
    "    os.makedirs(val_images_dir, exist_ok=True)\n",
    "    os.makedirs(train_labels_dir, exist_ok=True)\n",
    "    os.makedirs(val_labels_dir, exist_ok=True)\n",
    "\n",
    "    # List all images\n",
    "    all_images = [f for f in os.listdir(images_dir) if f.lower().endswith(('.jpg', '.jpeg', '.png'))]\n",
    "    random.shuffle(all_images)\n",
    "\n",
    "    split_idx = int(len(all_images) * train_ratio)\n",
    "    train_images = all_images[:split_idx]\n",
    "    val_images = all_images[split_idx:]\n",
    "\n",
    "    # Copy files\n",
    "    for img_file in train_images:\n",
    "        label_file = os.path.splitext(img_file)[0] + '.txt'\n",
    "        shutil.copy(os.path.join(images_dir, img_file), os.path.join(train_images_dir, img_file))\n",
    "        shutil.copy(os.path.join(labels_dir, label_file), os.path.join(train_labels_dir, label_file))\n",
    "\n",
    "    for img_file in val_images:\n",
    "        label_file = os.path.splitext(img_file)[0] + '.txt'\n",
    "        shutil.copy(os.path.join(images_dir, img_file), os.path.join(val_images_dir, img_file))\n",
    "        shutil.copy(os.path.join(labels_dir, label_file), os.path.join(val_labels_dir, label_file))\n",
    "\n",
    "    print(f\"✅ Split complete: {len(train_images)} train images, {len(val_images)} val images.\")"
   ]
  },
  {
   "cell_type": "code",
   "execution_count": 3,
   "id": "aa3af590",
   "metadata": {},
   "outputs": [
    {
     "name": "stdout",
     "output_type": "stream",
     "text": [
      "✅ Split complete: 626 train images, 157 val images.\n"
     ]
    }
   ],
   "source": [
    "# Update paths based on where your images/labels are\n",
    "IMAGES_DIR = \"data/do_not_open/images\"  # where your generated images are\n",
    "LABELS_DIR = \"data/do_not_open/labels\"  # where your generated labels are\n",
    "OUTPUT_DIR = \"data/catflap\"              # where final split folders will go\n",
    "\n",
    "split_train_val(IMAGES_DIR, LABELS_DIR, OUTPUT_DIR, train_ratio=0.8)"
   ]
  },
  {
   "cell_type": "code",
   "execution_count": null,
   "id": "ac232fff",
   "metadata": {},
   "outputs": [],
   "source": []
  }
 ],
 "metadata": {
  "kernelspec": {
   "display_name": "psnv-hunter",
   "language": "python",
   "name": "python3"
  },
  "language_info": {
   "codemirror_mode": {
    "name": "ipython",
    "version": 3
   },
   "file_extension": ".py",
   "mimetype": "text/x-python",
   "name": "python",
   "nbconvert_exporter": "python",
   "pygments_lexer": "ipython3",
   "version": "3.11.12"
  }
 },
 "nbformat": 4,
 "nbformat_minor": 5
}
