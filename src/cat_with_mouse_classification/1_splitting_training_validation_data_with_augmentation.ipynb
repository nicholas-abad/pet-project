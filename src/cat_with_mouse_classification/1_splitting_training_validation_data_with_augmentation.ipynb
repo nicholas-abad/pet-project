{
 "cells": [
  {
   "cell_type": "code",
   "execution_count": 1,
   "id": "1df90b45",
   "metadata": {},
   "outputs": [],
   "source": [
    "import os\n",
    "import random\n",
    "import shutil\n",
    "import cv2\n",
    "import numpy as np\n",
    "\n",
    "def augment_image(img):\n",
    "    if random.random() < 0.7:\n",
    "        img = cv2.cvtColor(img, cv2.COLOR_BGR2GRAY)\n",
    "        img = cv2.cvtColor(img, cv2.COLOR_GRAY2BGR)\n",
    "    if random.random() < 0.7:\n",
    "        k = random.choice([3, 5])\n",
    "        img = cv2.GaussianBlur(img, (k, k), 0)\n",
    "    if random.random() < 0.7:\n",
    "        hsv = cv2.cvtColor(img, cv2.COLOR_BGR2HSV)\n",
    "        hsv[:, :, 2] = np.clip(hsv[:, :, 2] * random.uniform(0.7, 1.3), 0, 255)\n",
    "        img = cv2.cvtColor(hsv, cv2.COLOR_HSV2BGR)\n",
    "    return img\n",
    "\n",
    "def prepare_classification_dataset(open_folder, do_not_open_folder, output_base, split_ratio=0.8):\n",
    "    # Create output directories\n",
    "    train_open = os.path.join(output_base, \"train/open\")\n",
    "    train_do_not = os.path.join(output_base, \"train/do_not_open\")\n",
    "    val_open = os.path.join(output_base, \"val/open\")\n",
    "    val_do_not = os.path.join(output_base, \"val/do_not_open\")\n",
    "\n",
    "    for folder in [train_open, train_do_not, val_open, val_do_not]:\n",
    "        os.makedirs(folder, exist_ok=True)\n",
    "\n",
    "    # Collect and shuffle data\n",
    "    all_data = []\n",
    "    for folder, label in [(open_folder, \"open\"), (do_not_open_folder, \"do_not_open\")]:\n",
    "        images = [f for f in os.listdir(folder) if f.lower().endswith(('.jpg', '.jpeg', '.png'))]\n",
    "        for img in images:\n",
    "            all_data.append((os.path.join(folder, img), label))\n",
    "    \n",
    "    random.shuffle(all_data)\n",
    "    split_idx = int(len(all_data) * split_ratio)\n",
    "    train_data = all_data[:split_idx]\n",
    "    val_data = all_data[split_idx:]\n",
    "\n",
    "    for dataset, folder_map, augment in [\n",
    "        (train_data, {\"open\": train_open, \"do_not_open\": train_do_not}, True),\n",
    "        (val_data, {\"open\": val_open, \"do_not_open\": val_do_not}, False)\n",
    "    ]:\n",
    "        for img_path, label in dataset:\n",
    "            base_name = os.path.splitext(os.path.basename(img_path))[0]\n",
    "            dst_path = os.path.join(folder_map[label], base_name + \".jpg\")\n",
    "            shutil.copy(img_path, dst_path)\n",
    "\n",
    "            if augment:\n",
    "                img = cv2.imread(img_path)\n",
    "                if img is not None:\n",
    "                    aug_img = augment_image(img)\n",
    "                    aug_name = base_name + \"_aug.jpg\"\n",
    "                    aug_path = os.path.join(folder_map[label], aug_name)\n",
    "                    cv2.imwrite(aug_path, aug_img)\n",
    "\n",
    "    print(f\"✅ Classification dataset prepared with {len(train_data)} train and {len(val_data)} val images (plus augmentations).\")"
   ]
  },
  {
   "cell_type": "code",
   "execution_count": null,
   "id": "17bc1a9e",
   "metadata": {},
   "outputs": [
    {
     "name": "stdout",
     "output_type": "stream",
     "text": [
      "✅ Classification dataset prepared with 63 train and 16 val images (plus augmentations).\n"
     ]
    }
   ],
   "source": [
    "open_folder = \"../../data/open\"\n",
    "do_not_open_folder = \"../../data/do_not_open\"\n",
    "output_base = \"../../datasets/catflap\"\n",
    "\n",
    "prepare_classification_dataset(open_folder, do_not_open_folder, output_base)"
   ]
  },
  {
   "cell_type": "code",
   "execution_count": null,
   "id": "605c9acc",
   "metadata": {},
   "outputs": [],
   "source": [
    "# shutil.rmtree(\n",
    "#     os.path.join(\n",
    "#         output_base,\n",
    "#         \"images\"\n",
    "#     )\n",
    "# )\n",
    "\n",
    "# shutil.rmtree(\n",
    "#     os.path.join(\n",
    "#         output_base,\n",
    "#         \"labels\"\n",
    "#     )\n",
    "# )"
   ]
  },
  {
   "cell_type": "code",
   "execution_count": null,
   "id": "4f5f2c6b",
   "metadata": {},
   "outputs": [],
   "source": []
  }
 ],
 "metadata": {
  "kernelspec": {
   "display_name": "psnv-hunter",
   "language": "python",
   "name": "python3"
  },
  "language_info": {
   "codemirror_mode": {
    "name": "ipython",
    "version": 3
   },
   "file_extension": ".py",
   "mimetype": "text/x-python",
   "name": "python",
   "nbconvert_exporter": "python",
   "pygments_lexer": "ipython3",
   "version": "3.11.12"
  }
 },
 "nbformat": 4,
 "nbformat_minor": 5
}
