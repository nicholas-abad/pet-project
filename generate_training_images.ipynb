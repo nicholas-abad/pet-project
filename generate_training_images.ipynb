{
 "cells": [
  {
   "cell_type": "code",
   "execution_count": null,
   "id": "dd2026f4",
   "metadata": {},
   "outputs": [],
   "source": [
    "# augment_with_mice.py\n",
    "\n",
    "import cv2\n",
    "import numpy as np\n",
    "import os\n",
    "from tqdm import tqdm\n",
    "\n",
    "def load_mouse_images(mouse_folder):\n",
    "    \"\"\"\n",
    "    Loads all mouse images from a folder.\n",
    "    \"\"\"\n",
    "    mouse_imgs = []\n",
    "    for file in os.listdir(mouse_folder):\n",
    "        if file.lower().endswith(('.png')):\n",
    "            img = cv2.imread(os.path.join(mouse_folder, file), cv2.IMREAD_UNCHANGED)\n",
    "            if img is not None:\n",
    "                mouse_imgs.append(img)\n",
    "    return mouse_imgs\n",
    "\n",
    "def overlay_random_mouse(cat_img_path, mouse_imgs, output_dir, num_augmentations=3):\n",
    "    cat_img = cv2.imread(cat_img_path, cv2.IMREAD_COLOR)  # load without alpha\n",
    "    if cat_img is None:\n",
    "        print(f\"Failed to load cat image: {cat_img_path}\")\n",
    "        return\n",
    "\n",
    "    cat_h, cat_w = cat_img.shape[:2]\n",
    "\n",
    "    for i in range(num_augmentations):\n",
    "        mouse_img = random.choice(mouse_imgs)\n",
    "\n",
    "        if mouse_img.shape[2] == 4:\n",
    "            mouse_color = mouse_img[:, :, :3]  # RGB channels\n",
    "            mouse_alpha = mouse_img[:, :, 3] / 255.0  # Alpha channel normalized\n",
    "        else:\n",
    "            mouse_color = mouse_img\n",
    "            mouse_alpha = np.ones(mouse_color.shape[:2], dtype=float)\n",
    "\n",
    "        # Resize mouse\n",
    "        scale_factor = random.uniform(0.1, 0.3)\n",
    "        mouse_color = cv2.resize(mouse_color, (0, 0), fx=scale_factor, fy=scale_factor)\n",
    "        mouse_alpha = cv2.resize(mouse_alpha, (0, 0), fx=scale_factor, fy=scale_factor)\n",
    "\n",
    "        mouse_h, mouse_w = mouse_color.shape[:2]\n",
    "\n",
    "        x_offset = random.randint(int(cat_w * 0.4), int(cat_w * 0.6))\n",
    "        y_offset = random.randint(int(cat_h * 0.6), int(cat_h * 0.8))\n",
    "\n",
    "        if y_offset + mouse_h > cat_h or x_offset + mouse_w > cat_w:\n",
    "            continue\n",
    "\n",
    "        # Region of interest on cat image\n",
    "        roi = cat_img[y_offset:y_offset+mouse_h, x_offset:x_offset+mouse_w]\n",
    "\n",
    "        # Blend mouse onto cat\n",
    "        for c in range(0, 3):  # BGR channels\n",
    "            roi[:, :, c] = (mouse_alpha * mouse_color[:, :, c] + (1 - mouse_alpha) * roi[:, :, c])\n",
    "\n",
    "        cat_img[y_offset:y_offset+mouse_h, x_offset:x_offset+mouse_w] = roi\n",
    "\n",
    "        # Save\n",
    "        base_name = os.path.basename(cat_img_path).split('.')[0]\n",
    "        out_path = os.path.join(output_dir, f\"{base_name}_aug_{i}.jpg\")\n",
    "        cv2.imwrite(out_path, cat_img)\n",
    "    \n",
    "def batch_augment(cat_images_folder, mouse_images_folder, output_folder, num_aug_per_image=3):\n",
    "    os.makedirs(output_folder, exist_ok=True)\n",
    "    mouse_imgs = load_mouse_images(mouse_images_folder)\n",
    "\n",
    "    cat_images = [f for f in os.listdir(cat_images_folder) if f.lower().endswith(('.png', '.jpg', '.jpeg'))]\n",
    "\n",
    "    for cat_img in tqdm(cat_images, desc=\"Augmenting images\", unit=\"image\"):\n",
    "        full_cat_path = os.path.join(cat_images_folder, cat_img)\n",
    "        overlay_random_mouse(full_cat_path, mouse_imgs, output_folder, num_augmentations=num_aug_per_image)"
   ]
  },
  {
   "cell_type": "code",
   "execution_count": 5,
   "id": "5680aeb2",
   "metadata": {},
   "outputs": [
    {
     "name": "stderr",
     "output_type": "stream",
     "text": [
      "Augmenting images: 100%|██████████| 343/343 [00:05<00:00, 58.18image/s]\n"
     ]
    }
   ],
   "source": [
    "CAT_IMAGES_FOLDER = \"data/elfie\"\n",
    "MOUSE_IMAGES_FOLDER = \"data/mice\"\n",
    "OUTPUT_FOLDER = \"data/do_not_open\"\n",
    "\n",
    "batch_augment(CAT_IMAGES_FOLDER, MOUSE_IMAGES_FOLDER, OUTPUT_FOLDER, num_aug_per_image=3)"
   ]
  },
  {
   "cell_type": "code",
   "execution_count": null,
   "id": "4448fb95",
   "metadata": {},
   "outputs": [],
   "source": []
  }
 ],
 "metadata": {
  "kernelspec": {
   "display_name": "psnv-hunter",
   "language": "python",
   "name": "python3"
  },
  "language_info": {
   "codemirror_mode": {
    "name": "ipython",
    "version": 3
   },
   "file_extension": ".py",
   "mimetype": "text/x-python",
   "name": "python",
   "nbconvert_exporter": "python",
   "pygments_lexer": "ipython3",
   "version": "3.11.12"
  }
 },
 "nbformat": 4,
 "nbformat_minor": 5
}
